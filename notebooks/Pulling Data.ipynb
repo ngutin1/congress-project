{
 "cells": [
  {
   "cell_type": "markdown",
   "id": "6f44f3c2",
   "metadata": {},
   "source": [
    "# Testing"
   ]
  },
  {
   "cell_type": "code",
   "execution_count": null,
   "id": "3864c3ae",
   "metadata": {},
   "outputs": [],
   "source": [
    "import requests \n",
    "import json\n",
    "\n",
    "#api keys and calls\n",
    "key =  \"&api_key=ZiixMA1sRbVh4nNlZgFbYlrtVIfxYGvPFl46PY2\"\n",
    "url = \"https://api.congress.gov/v3/bill?limit=250&api_key=\"\n",
    "url2 = 'https://api.congress.gov/v3/bill/116/hr/4704?format=json'\n"
   ]
  },
  {
   "cell_type": "code",
   "execution_count": null,
   "id": "a8bf03ea",
   "metadata": {},
   "outputs": [],
   "source": [
    "#function to fetch general info \n",
    "\n",
    "#function to fetch texts, cosponsors \n",
    "\n",
    "\n",
    "bills = test.json()\n",
    "\n",
    "'''\n",
    "if bills:\n",
    "    print(json.dumps(bills, indent=4))\n",
    "'''\n",
    "\n",
    "bills"
   ]
  },
  {
   "cell_type": "markdown",
   "id": "5cda192b",
   "metadata": {},
   "source": [
    "# Pulling requests\n",
    "\n",
    "- **edit the algo to stop once it's out of bills**\n",
    "\n",
    "- test to see if time/sleep is needed\n"
   ]
  },
  {
   "cell_type": "code",
   "execution_count": null,
   "id": "75669a64",
   "metadata": {},
   "outputs": [],
   "source": [
    "import time\n",
    "import requests\n",
    "import json\n",
    "\n",
    "offset = 0\n",
    "limit = 250  # Maximum number of results per request\n",
    "congress = 117\n",
    "c117_allBills = []\n",
    "my_key = '2ZiixMA1sRbVh4nNlZgFbYlrtVIfxYGvPFl46PY2'  # Replace with your API key\n",
    "rate_limit = 5000\n",
    "requests_made = 0\n",
    "num_download = 0 \n",
    "\n",
    "def fetch_bills(congress, offset, limit, key):\n",
    "    url = f'https://api.congress.gov/v3/bill/{congress}?offset={offset}&limit={limit}&api_key={key}'\n",
    "    response = requests.get(url)\n",
    "    \n",
    "    # Check if the request was successful\n",
    "    if response.status_code == 200:\n",
    "        return response.json()\n",
    "    else:\n",
    "        print(f\"Error: {response.status_code}\")\n",
    "        return None\n",
    "    \n",
    "def download(congress, offset = 0, limit = 250, key=my_key, rate_limit = 5000):\n",
    "    # Fetching all bills from the specified Congress\n",
    "    allBills = []\n",
    "    requests_made = 0\n",
    "    num_download = -1 \n",
    "    \n",
    "    while True:\n",
    "        # Check if we've reached the rate limit\n",
    "        if requests_made >= rate_limit:\n",
    "            print(\"Rate limit reached. Stopping the script.\")\n",
    "            break\n",
    "\n",
    "        data = fetch_bills(congress, offset, limit, key)\n",
    "        \n",
    "\n",
    "        # Increment the request counter\n",
    "        requests_made += 1\n",
    "\n",
    "\n",
    "        # Break the loop if no more results are returned\n",
    "        if not data or 'bills' not in data:\n",
    "            break\n",
    "\n",
    "        # Append the bills from this request to our list\n",
    "        allBills.extend(data['bills'])\n",
    "\n",
    "        # Increment the offset for the next batch of results\n",
    "        offset += limit\n",
    "        print(f\"Fetched {len(allBills)} bills so far...\")\n",
    "        \n",
    "        #if max number of bills for specific congress is downloaded then break\n",
    "        if num_download == len(allBills):\n",
    "            break\n",
    "        \n",
    "        num_download = len(allBills)\n",
    "\n",
    "        # Optional: Add a delay to avoid hitting the rate limit too quickly (e.g., 1 second between requests)\n",
    "        time.sleep(1)\n",
    "\n",
    "    # Print the total number of bills retrieved\n",
    "    print(f\"Total bills retrieved from Congress {congress}: {len(allBills)}\")\n",
    "    return allBills"
   ]
  },
  {
   "cell_type": "code",
   "execution_count": null,
   "id": "cc7e7c99",
   "metadata": {},
   "outputs": [],
   "source": [
    "c110_allBills = download(110)"
   ]
  },
  {
   "cell_type": "code",
   "execution_count": null,
   "id": "00ca85d5",
   "metadata": {},
   "outputs": [],
   "source": [
    "len(c110_allBills)\n",
    "c110_allBills[500]"
   ]
  },
  {
   "cell_type": "code",
   "execution_count": null,
   "id": "529541ab",
   "metadata": {},
   "outputs": [],
   "source": [
    "#save json\n",
    "with open('c110_allBills.json', 'w') as f:\n",
    "    json.dump(c110_allBills, f)"
   ]
  },
  {
   "cell_type": "markdown",
   "id": "c8c39b94",
   "metadata": {},
   "source": [
    "# Downloading text data"
   ]
  },
  {
   "cell_type": "code",
   "execution_count": null,
   "id": "2eb8954c",
   "metadata": {},
   "outputs": [],
   "source": [
    "import requests \n",
    "import json\n",
    "\n",
    "with open('general bill info/c117_allBills.json', 'r') as f:\n",
    "    c117_allBills = json.load(f)\n"
   ]
  },
  {
   "cell_type": "code",
   "execution_count": null,
   "id": "89d9cf36",
   "metadata": {},
   "outputs": [],
   "source": [
    "from bs4 import BeautifulSoup\n",
    "import html5lib\n",
    "\n",
    "def latestText(congressJson, num, offset=0, limit=250):\n",
    "    my_key = '2ZiixMA1sRbVh4nNlZgFbYlrtVIfxYGvPFl46PY2'\n",
    "    congressText = []\n",
    "    numSaved = 0\n",
    "    \n",
    "    for bill in congressJson:\n",
    "        #load in metadata for text api call \n",
    "        congress = str(bill['congress'])\n",
    "        code = bill['type'].lower()\n",
    "        num = bill['number']\n",
    "        apiURL = f'https://api.congress.gov/v3/bill/{congress}/{code}/{num}/text?offset={offset}&limit={limit}&api_key={my_key}'   \n",
    "        \n",
    "        #load text from url\n",
    "        json = requests.get(apiURL).json()\n",
    "        textURL=json['textVersions'][-1]['formats'][0]['url'] #latest text x\n",
    "        source = requests.get(u).text\n",
    "        soup = BeautifulSoup(source, \"lxml\")\n",
    "        \n",
    "        #save to list\n",
    "        save = {\"id\": code + num,\n",
    "         \"text\":soup.text}\n",
    "        \n",
    "        congressText.append(save)\n",
    "        numSaved += 1\n",
    "        print(f\"saved {numSaved} bills so far\")\n",
    "    \n",
    "    print(f\"saved a total of {numSaved} bills\")\n",
    "    \n",
    "    name = \"c\"+str(num)+ \"_textBills.json\"\n",
    "    \n",
    "    with open(name, 'w') as f:\n",
    "    json.dump(congressText, f)\n",
    "    \n",
    "      "
   ]
  },
  {
   "cell_type": "code",
   "execution_count": null,
   "id": "cd815307",
   "metadata": {},
   "outputs": [],
   "source": [
    "c117_allText = latestText(c117_allBills)"
   ]
  },
  {
   "cell_type": "code",
   "execution_count": null,
   "id": "df24cc5e",
   "metadata": {},
   "outputs": [],
   "source": [
    "c117_allText"
   ]
  },
  {
   "cell_type": "code",
   "execution_count": null,
   "id": "acef3541",
   "metadata": {},
   "outputs": [],
   "source": [
    "test\n",
    "my_key = '2ZiixMA1sRbVh4nNlZgFbYlrtVIfxYGvPFl46PY2'\n",
    "offset = 0\n",
    "limit = 250\n",
    "congress = 117\n",
    "\n",
    "code = test['type'].lower()\n",
    "num = test['number']\n",
    "url = f'https://api.congress.gov/v3/bill/{congress}/{code}/{num}/text?offset={offset}&limit={limit}&api_key={my_key}'\n",
    "\n"
   ]
  },
  {
   "cell_type": "code",
   "execution_count": null,
   "id": "761dffbe",
   "metadata": {},
   "outputs": [],
   "source": [
    "textLink = requests.get(url).json()"
   ]
  },
  {
   "cell_type": "code",
   "execution_count": null,
   "id": "4d436238",
   "metadata": {},
   "outputs": [],
   "source": [
    "u=textLink['textVersions'][-1]['formats'][0]['url'] #latest text x"
   ]
  },
  {
   "cell_type": "code",
   "execution_count": null,
   "id": "273c2f23",
   "metadata": {},
   "outputs": [],
   "source": [
    "from bs4 import BeautifulSoup\n",
    "import html5lib\n",
    "\n",
    "source = requests.get(u).text\n",
    "soup = BeautifulSoup(source, \"lxml\")"
   ]
  },
  {
   "cell_type": "code",
   "execution_count": null,
   "id": "4df5d255",
   "metadata": {},
   "outputs": [],
   "source": [
    "test = {\"id\": code + num,\n",
    "         \"text\":soup.text}"
   ]
  },
  {
   "cell_type": "markdown",
   "id": "b641fe1d",
   "metadata": {},
   "source": [
    "### check json file size "
   ]
  },
  {
   "cell_type": "code",
   "execution_count": null,
   "id": "9281fbb5",
   "metadata": {},
   "outputs": [],
   "source": [
    "import sys\n",
    "json_string = json.dumps(c117_allText, indent=4)\n",
    "\n",
    "# Calculate size of JSON string in bytes\n",
    "json_size_bytes = sys.getsizeof(json_string)\n",
    "\n",
    "# Convert bytes to kilobytes for readability\n",
    "json_size_kb = json_size_bytes / 1024"
   ]
  },
  {
   "cell_type": "code",
   "execution_count": null,
   "id": "c5ae6430",
   "metadata": {},
   "outputs": [],
   "source": [
    "json_size_kb"
   ]
  }
 ],
 "metadata": {
  "kernelspec": {
   "display_name": "Python 3.8.8 64-bit ('base': conda)",
   "language": "python",
   "name": "python388jvsc74a57bd0cac03b58fac2b1fdfb9b8cd742f5958443ccb47a49c632dcd347261c712a63c4"
  },
  "language_info": {
   "codemirror_mode": {
    "name": "ipython",
    "version": 3
   },
   "file_extension": ".py",
   "mimetype": "text/x-python",
   "name": "python",
   "nbconvert_exporter": "python",
   "pygments_lexer": "ipython3",
   "version": "3.8.8"
  }
 },
 "nbformat": 4,
 "nbformat_minor": 5
}
