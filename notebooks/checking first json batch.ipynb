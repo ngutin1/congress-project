{
 "cells": [
  {
   "cell_type": "code",
   "execution_count": 40,
   "metadata": {},
   "outputs": [],
   "source": [
    "import boto3\n",
    "from dotenv import load_dotenv\n",
    "import os\n",
    "import json\n"
   ]
  },
  {
   "cell_type": "code",
   "execution_count": 41,
   "metadata": {},
   "outputs": [],
   "source": [
    "load_dotenv()\n",
    "s3 = boto3.client('s3')\n",
    "s3_uri = os.getenv('s3_uri')\n",
    "\n",
    "# Parse S3 URI\n",
    "bucket_name, key = s3_uri.replace(\"s3://\", \"\").split(\"/\", 1)\n",
    "\n",
    "# Get and display JSON content\n",
    "response = s3.get_object(Bucket=bucket_name, Key=key)"
   ]
  },
  {
   "cell_type": "code",
   "execution_count": 42,
   "metadata": {},
   "outputs": [],
   "source": [
    "data_list = json.loads(response['Body'].read().decode('utf-8'))"
   ]
  },
  {
   "cell_type": "code",
   "execution_count": 43,
   "metadata": {},
   "outputs": [
    {
     "data": {
      "text/plain": [
       "'{\\n    \"pagination\": {\\n        \"count\": 1\\n    },\\n    \"request\": {\\n        \"billNumber\": \"7207\",\\n        \"billType\": \"hr\",\\n        \"billUrl\": \"https://api.congress.gov/v3/bill/110/hr/7207?format=json\",\\n        \"congress\": \"110\",\\n        \"contentType\": \"application/json\",\\n        \"format\": \"json\"\\n    },\\n    \"textVersions\": [\\n        {\\n            \"date\": \"2008-09-28T04:00:00Z\",\\n            \"formats\": [\\n                {\\n                    \"type\": \"Formatted Text\",\\n                    \"url\": \"https://www.congress.gov/110/bills/hr7207/BILLS-110hr7207ih.htm\"\\n                },\\n                {\\n                    \"type\": \"PDF\",\\n                    \"url\": \"https://www.congress.gov/110/bills/hr7207/BILLS-110hr7207ih.pdf\"\\n                },\\n                {\\n                    \"type\": \"Formatted XML\",\\n                    \"url\": \"https://www.congress.gov/110/bills/hr7207/BILLS-110hr7207ih.xml\"\\n                }\\n            ],\\n            \"type\": \"Introduced in House\"\\n        }\\n    ]\\n}'"
      ]
     },
     "execution_count": 43,
     "metadata": {},
     "output_type": "execute_result"
    }
   ],
   "source": [
    "data_list[650]['text']"
   ]
  },
  {
   "cell_type": "code",
   "execution_count": null,
   "metadata": {},
   "outputs": [],
   "source": []
  }
 ],
 "metadata": {
  "interpreter": {
   "hash": "8384d87c582b2e31d47905d5cb3d386e95c30df4c8fbac7736b5357a8c3a5d8b"
  },
  "kernelspec": {
   "display_name": "Python 3 (ipykernel)",
   "language": "python",
   "name": "python3"
  },
  "language_info": {
   "codemirror_mode": {
    "name": "ipython",
    "version": 3
   },
   "file_extension": ".py",
   "mimetype": "text/x-python",
   "name": "python",
   "nbconvert_exporter": "python",
   "pygments_lexer": "ipython3",
   "version": "3.11.5"
  }
 },
 "nbformat": 4,
 "nbformat_minor": 2
}
